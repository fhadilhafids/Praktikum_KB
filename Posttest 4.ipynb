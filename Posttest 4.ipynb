{
 "cells": [
  {
   "attachments": {},
   "cell_type": "markdown",
   "metadata": {},
   "source": [
    "POSTTEST 4 PRAKTIKUM KECERDASAN BUATAN\n",
    "\n",
    "NAMA : MOHAMMAD FHADIL HAFIDS HARSANDI\n",
    "NIM  : 2109106072"
   ]
  },
  {
   "attachments": {},
   "cell_type": "markdown",
   "metadata": {},
   "source": [
    "LINK DATASET : https://drive.google.com/file/d/18b8g24I6PkXcEluEgM1zp2n3E7R3CRE9/view?usp=drive_link"
   ]
  },
  {
   "attachments": {},
   "cell_type": "markdown",
   "metadata": {},
   "source": [
    "Import Library / Modul yang diperlukan"
   ]
  },
  {
   "cell_type": "code",
   "execution_count": 84,
   "metadata": {},
   "outputs": [],
   "source": [
    "import pandas as pd\n",
    "import numpy as np\n",
    "from sklearn.model_selection import train_test_split\n",
    "from sklearn.preprocessing import MinMaxScaler\n",
    "from sklearn.preprocessing import StandardScaler\n",
    "from sklearn.preprocessing import OneHotEncoder"
   ]
  },
  {
   "attachments": {},
   "cell_type": "markdown",
   "metadata": {},
   "source": [
    "Membaca Dataset"
   ]
  },
  {
   "cell_type": "code",
   "execution_count": 85,
   "metadata": {},
   "outputs": [],
   "source": [
    "data=pd.read_csv(\"Dataset-SA.csv\")"
   ]
  },
  {
   "attachments": {},
   "cell_type": "markdown",
   "metadata": {},
   "source": [
    "MAAF BANG, KARENA TIPE DATANYA BERBEDA DENGAN YANG DI KAGGLE JADI SAYA UBAH TIPE DATANYA"
   ]
  },
  {
   "cell_type": "code",
   "execution_count": 86,
   "metadata": {},
   "outputs": [],
   "source": [
    "data = data[data[\"product_price\"].str.isnumeric()]\n",
    "data[\"product_price\"] = data[\"product_price\"].astype(\"int64\")\n",
    "\n",
    "data = data[data[\"Rate\"].str.isnumeric()]\n",
    "data[\"Rate\"] = data[\"Rate\"].astype(\"int64\")"
   ]
  },
  {
   "attachments": {},
   "cell_type": "markdown",
   "metadata": {},
   "source": [
    "-----------------------------------------------------------------------------------------------------------------------------"
   ]
  },
  {
   "attachments": {},
   "cell_type": "markdown",
   "metadata": {},
   "source": [
    "Membagi dataset menjadi training set dan testing set dengan proporsi 70:30"
   ]
  },
  {
   "attachments": {},
   "cell_type": "markdown",
   "metadata": {},
   "source": [
    "============================================================================================================================="
   ]
  },
  {
   "cell_type": "code",
   "execution_count": 87,
   "metadata": {},
   "outputs": [
    {
     "name": "stdout",
     "output_type": "stream",
     "text": [
      "===== TRAINING dan TESTING SETS =====\n",
      "-------------------------------------\n",
      "| Dimension of x_train | (143534, 5)   |\n",
      "| Dimension of x_test  | (61515, 5)   |\n",
      "| Dimension of y_train | (143534,)   |\n",
      "| Dimension of y_test  | (61515,)   |\n",
      "-------------------------------------\n"
     ]
    }
   ],
   "source": [
    "X = data.iloc[:, :-1]\n",
    "y = data.iloc[:, -1]\n",
    "X_train, X_test, y_train, y_test = train_test_split(X, y, test_size=0.3, random_state=42)\n",
    "\n",
    "print(\"===== TRAINING dan TESTING SETS =====\")\n",
    "print(\"-------------------------------------\")\n",
    "print(\"| Dimension of x_train |\", X_train.shape, \"  |\")\n",
    "print(\"| Dimension of x_test  |\", X_test.shape, \"  |\")\n",
    "print(\"| Dimension of y_train |\", y_train.shape, \"  |\")\n",
    "print(\"| Dimension of y_test  |\", y_test.shape, \"  |\")\n",
    "print(\"-------------------------------------\")"
   ]
  },
  {
   "attachments": {},
   "cell_type": "markdown",
   "metadata": {},
   "source": [
    "-----------------------------------------------------------------------------------------------------------------------------"
   ]
  },
  {
   "attachments": {},
   "cell_type": "markdown",
   "metadata": {},
   "source": [
    "Lakukan normalisasi data pada salah satu attribute menggunakan Min Max scaler"
   ]
  },
  {
   "attachments": {},
   "cell_type": "markdown",
   "metadata": {},
   "source": [
    "============================================================================================================================="
   ]
  },
  {
   "cell_type": "code",
   "execution_count": 88,
   "metadata": {},
   "outputs": [
    {
     "name": "stdout",
     "output_type": "stream",
     "text": [
      "[[0.0453233 ]\n",
      " [0.0453233 ]\n",
      " [0.0453233 ]\n",
      " ...\n",
      " [0.01426419]\n",
      " [0.01426419]\n",
      " [0.01426419]]\n"
     ]
    }
   ],
   "source": [
    "atribut_normalisasi_normal = data.copy()\n",
    "atribut_normalisasi = data['product_price'].values.reshape(-1, 1)\n",
    "\n",
    "scaler = MinMaxScaler()\n",
    "\n",
    "atribut_normalisasi_normal = scaler.fit_transform(atribut_normalisasi)\n",
    "data['product_price'] = atribut_normalisasi\n",
    "print(atribut_normalisasi_normal)"
   ]
  },
  {
   "attachments": {},
   "cell_type": "markdown",
   "metadata": {},
   "source": [
    "-----------------------------------------------------------------------------------------------------------------------------"
   ]
  },
  {
   "attachments": {},
   "cell_type": "markdown",
   "metadata": {},
   "source": [
    "Lakukan standarisasi pada dataset"
   ]
  },
  {
   "attachments": {},
   "cell_type": "markdown",
   "metadata": {},
   "source": [
    "============================================================================================================================="
   ]
  },
  {
   "cell_type": "code",
   "execution_count": 89,
   "metadata": {},
   "outputs": [
    {
     "name": "stdout",
     "output_type": "stream",
     "text": [
      "                                             product_name  product_price  \\\n",
      "0       Candes 12 L Room/Personal Air Cooler??????(Whi...      -0.013779   \n",
      "1       Candes 12 L Room/Personal Air Cooler??????(Whi...      -0.013779   \n",
      "2       Candes 12 L Room/Personal Air Cooler??????(Whi...      -0.013779   \n",
      "3       Candes 12 L Room/Personal Air Cooler??????(Whi...      -0.013779   \n",
      "4       Candes 12 L Room/Personal Air Cooler??????(Whi...      -0.013779   \n",
      "...                                                   ...            ...   \n",
      "205047  cello Pack of 18 Opalware Cello Dazzle Lush Fi...      -0.287006   \n",
      "205048  cello Pack of 18 Opalware Cello Dazzle Lush Fi...      -0.287006   \n",
      "205049  cello Pack of 18 Opalware Cello Dazzle Lush Fi...      -0.287006   \n",
      "205050  cello Pack of 18 Opalware Cello Dazzle Lush Fi...      -0.287006   \n",
      "205051  cello Pack of 18 Opalware Cello Dazzle Lush Fi...      -0.287006   \n",
      "\n",
      "        Rate           Review  \\\n",
      "0          5           super!   \n",
      "1          5          awesome   \n",
      "2          3             fair   \n",
      "3          1  useless product   \n",
      "4          3             fair   \n",
      "...      ...              ...   \n",
      "205047     5        must buy!   \n",
      "205048     5           super!   \n",
      "205049     3             nice   \n",
      "205050     5        just wow!   \n",
      "205051     4  value-for-money   \n",
      "\n",
      "                                                  Summary Sentiment  \n",
      "0       great cooler excellent air flow and for this p...  positive  \n",
      "1                   best budget 2 fit cooler nice cooling  positive  \n",
      "2       the quality is good but the power of air is de...  positive  \n",
      "3                       very bad product its a only a fan  negative  \n",
      "4                                           ok ok product   neutral  \n",
      "...                                                   ...       ...  \n",
      "205047                                       good product  positive  \n",
      "205048                                               nice  positive  \n",
      "205049                        very nice and fast delivery  positive  \n",
      "205050                                    awesome product  positive  \n",
      "205051  very good but mixing bowl not included is one ...   neutral  \n",
      "\n",
      "[205049 rows x 6 columns]\n"
     ]
    }
   ],
   "source": [
    "data_copy = data.copy()\n",
    "scale = StandardScaler()\n",
    "attribute = 'product_price'\n",
    "data_copy[[attribute]] = standard_scaler.fit_transform(data_copy[[attribute]])\n",
    "print(data_copy)"
   ]
  },
  {
   "attachments": {},
   "cell_type": "markdown",
   "metadata": {},
   "source": [
    "-----------------------------------------------------------------------------------------------------------------------------"
   ]
  },
  {
   "attachments": {},
   "cell_type": "markdown",
   "metadata": {},
   "source": [
    "Lakukan Data cleaning pada data dengan nilai null"
   ]
  },
  {
   "attachments": {},
   "cell_type": "markdown",
   "metadata": {},
   "source": [
    "============================================================================================================================="
   ]
  },
  {
   "cell_type": "code",
   "execution_count": 90,
   "metadata": {},
   "outputs": [
    {
     "name": "stdout",
     "output_type": "stream",
     "text": [
      "\n",
      "Dataset setelah data cleaning:\n",
      "Jumlah Record Yang memiliki nilai null: \n",
      "product_name         0\n",
      "product_price        0\n",
      "Rate                 0\n",
      "Review           24664\n",
      "Summary             11\n",
      "Sentiment            0\n",
      "dtype: int64\n"
     ]
    }
   ],
   "source": [
    "from sklearn.impute import SimpleImputer\n",
    "attribute = {\n",
    "    'product_price': data['product_price'].median(),\n",
    "    'Rate': data['Rate'].median(),\n",
    "    'Sentiment': data['Sentiment'].mode()[0]\n",
    "}\n",
    "\n",
    "data_cleaned = data.fillna(value=attribute)\n",
    "print(\"\\nDataset setelah data cleaning:\")\n",
    "print(\"Jumlah Record Yang memiliki nilai null: \")\n",
    "print(data_cleaned.isnull().sum())"
   ]
  },
  {
   "cell_type": "code",
   "execution_count": 91,
   "metadata": {},
   "outputs": [
    {
     "name": "stdout",
     "output_type": "stream",
     "text": [
      "product_name     0\n",
      "product_price    0\n",
      "Rate             0\n",
      "Review           0\n",
      "Summary          0\n",
      "Sentiment        0\n",
      "dtype: int64\n"
     ]
    }
   ],
   "source": [
    "imputer = SimpleImputer(strategy='most_frequent')\n",
    "columns_to_impute = [\"Review\", \"Summary\"]\n",
    "data[columns_to_impute] = imputer.fit_transform(data[columns_to_impute])\n",
    "print(data.isna().sum())"
   ]
  },
  {
   "attachments": {},
   "cell_type": "markdown",
   "metadata": {},
   "source": [
    "-----------------------------------------------------------------------------------------------------------------------------"
   ]
  },
  {
   "attachments": {},
   "cell_type": "markdown",
   "metadata": {},
   "source": [
    "Lakukan Data cleaning pada data dengan nilai duplikat."
   ]
  },
  {
   "attachments": {},
   "cell_type": "markdown",
   "metadata": {},
   "source": [
    "============================================================================================================================="
   ]
  },
  {
   "cell_type": "code",
   "execution_count": 92,
   "metadata": {},
   "outputs": [
    {
     "name": "stdout",
     "output_type": "stream",
     "text": [
      "Data yang memiliki nilai duplikat\n"
     ]
    },
    {
     "data": {
      "text/plain": [
       "34381"
      ]
     },
     "execution_count": 92,
     "metadata": {},
     "output_type": "execute_result"
    }
   ],
   "source": [
    "print(\"Data yang memiliki nilai duplikat\")\n",
    "data.duplicated().sum()"
   ]
  },
  {
   "cell_type": "code",
   "execution_count": 93,
   "metadata": {},
   "outputs": [
    {
     "data": {
      "text/plain": [
       "0"
      ]
     },
     "execution_count": 93,
     "metadata": {},
     "output_type": "execute_result"
    }
   ],
   "source": [
    "data.drop_duplicates(inplace=True)\n",
    "data.duplicated().sum()"
   ]
  },
  {
   "attachments": {},
   "cell_type": "markdown",
   "metadata": {},
   "source": [
    "-----------------------------------------------------------------------------------------------------------------------------"
   ]
  },
  {
   "attachments": {},
   "cell_type": "markdown",
   "metadata": {},
   "source": [
    "Ganti tipe data salah satu attribute angka"
   ]
  },
  {
   "attachments": {},
   "cell_type": "markdown",
   "metadata": {},
   "source": [
    "============================================================================================================================="
   ]
  },
  {
   "cell_type": "code",
   "execution_count": 94,
   "metadata": {},
   "outputs": [
    {
     "name": "stdout",
     "output_type": "stream",
     "text": [
      "<class 'pandas.core.frame.DataFrame'>\n",
      "Index: 170668 entries, 0 to 205051\n",
      "Data columns (total 6 columns):\n",
      " #   Column         Non-Null Count   Dtype \n",
      "---  ------         --------------   ----- \n",
      " 0   product_name   170668 non-null  object\n",
      " 1   product_price  170668 non-null  object\n",
      " 2   Rate           170668 non-null  int64 \n",
      " 3   Review         170668 non-null  object\n",
      " 4   Summary        170668 non-null  object\n",
      " 5   Sentiment      170668 non-null  object\n",
      "dtypes: int64(1), object(5)\n",
      "memory usage: 9.1+ MB\n"
     ]
    }
   ],
   "source": [
    "data['product_price'] = data['product_price'].astype(str)\n",
    "data.info()"
   ]
  },
  {
   "attachments": {},
   "cell_type": "markdown",
   "metadata": {},
   "source": [
    "-----------------------------------------------------------------------------------------------------------------------------"
   ]
  },
  {
   "attachments": {},
   "cell_type": "markdown",
   "metadata": {},
   "source": [
    "Lakukan one hot encoding pada dataset"
   ]
  },
  {
   "attachments": {},
   "cell_type": "markdown",
   "metadata": {},
   "source": [
    "============================================================================================================================="
   ]
  },
  {
   "cell_type": "code",
   "execution_count": 95,
   "metadata": {},
   "outputs": [
    {
     "name": "stderr",
     "output_type": "stream",
     "text": [
      "c:\\Users\\Mohammad Fhadil\\AppData\\Local\\Programs\\Python\\Python310\\lib\\site-packages\\sklearn\\preprocessing\\_encoders.py:975: FutureWarning: `sparse` was renamed to `sparse_output` in version 1.2 and will be removed in 1.4. `sparse_output` is ignored unless you leave `sparse` to its default value.\n",
      "  warnings.warn(\n"
     ]
    },
    {
     "data": {
      "text/html": [
       "<div>\n",
       "<style scoped>\n",
       "    .dataframe tbody tr th:only-of-type {\n",
       "        vertical-align: middle;\n",
       "    }\n",
       "\n",
       "    .dataframe tbody tr th {\n",
       "        vertical-align: top;\n",
       "    }\n",
       "\n",
       "    .dataframe thead th {\n",
       "        text-align: right;\n",
       "    }\n",
       "</style>\n",
       "<table border=\"1\" class=\"dataframe\">\n",
       "  <thead>\n",
       "    <tr style=\"text-align: right;\">\n",
       "      <th></th>\n",
       "      <th>0</th>\n",
       "      <th>1</th>\n",
       "      <th>2</th>\n",
       "      <th>3</th>\n",
       "      <th>4</th>\n",
       "    </tr>\n",
       "  </thead>\n",
       "  <tbody>\n",
       "    <tr>\n",
       "      <th>0</th>\n",
       "      <td>0.0</td>\n",
       "      <td>0.0</td>\n",
       "      <td>0.0</td>\n",
       "      <td>0.0</td>\n",
       "      <td>1.0</td>\n",
       "    </tr>\n",
       "    <tr>\n",
       "      <th>1</th>\n",
       "      <td>0.0</td>\n",
       "      <td>0.0</td>\n",
       "      <td>0.0</td>\n",
       "      <td>0.0</td>\n",
       "      <td>1.0</td>\n",
       "    </tr>\n",
       "    <tr>\n",
       "      <th>2</th>\n",
       "      <td>0.0</td>\n",
       "      <td>0.0</td>\n",
       "      <td>1.0</td>\n",
       "      <td>0.0</td>\n",
       "      <td>0.0</td>\n",
       "    </tr>\n",
       "    <tr>\n",
       "      <th>3</th>\n",
       "      <td>1.0</td>\n",
       "      <td>0.0</td>\n",
       "      <td>0.0</td>\n",
       "      <td>0.0</td>\n",
       "      <td>0.0</td>\n",
       "    </tr>\n",
       "    <tr>\n",
       "      <th>4</th>\n",
       "      <td>0.0</td>\n",
       "      <td>0.0</td>\n",
       "      <td>1.0</td>\n",
       "      <td>0.0</td>\n",
       "      <td>0.0</td>\n",
       "    </tr>\n",
       "  </tbody>\n",
       "</table>\n",
       "</div>"
      ],
      "text/plain": [
       "     0    1    2    3    4\n",
       "0  0.0  0.0  0.0  0.0  1.0\n",
       "1  0.0  0.0  0.0  0.0  1.0\n",
       "2  0.0  0.0  1.0  0.0  0.0\n",
       "3  1.0  0.0  0.0  0.0  0.0\n",
       "4  0.0  0.0  1.0  0.0  0.0"
      ]
     },
     "execution_count": 95,
     "metadata": {},
     "output_type": "execute_result"
    }
   ],
   "source": [
    "onehot_encoder = OneHotEncoder(sparse = False)\n",
    "\n",
    "onehot = onehot_encoder.fit_transform(data[[\"Rate\"]])\n",
    "\n",
    "dataset_onehot = pd.DataFrame(onehot)\n",
    "\n",
    "dataset_onehot.head()"
   ]
  },
  {
   "cell_type": "code",
   "execution_count": 96,
   "metadata": {},
   "outputs": [
    {
     "data": {
      "text/html": [
       "<div>\n",
       "<style scoped>\n",
       "    .dataframe tbody tr th:only-of-type {\n",
       "        vertical-align: middle;\n",
       "    }\n",
       "\n",
       "    .dataframe tbody tr th {\n",
       "        vertical-align: top;\n",
       "    }\n",
       "\n",
       "    .dataframe thead th {\n",
       "        text-align: right;\n",
       "    }\n",
       "</style>\n",
       "<table border=\"1\" class=\"dataframe\">\n",
       "  <thead>\n",
       "    <tr style=\"text-align: right;\">\n",
       "      <th></th>\n",
       "      <th>product_name</th>\n",
       "      <th>product_price</th>\n",
       "      <th>Rate</th>\n",
       "      <th>Review</th>\n",
       "      <th>Summary</th>\n",
       "      <th>Sentiment</th>\n",
       "      <th>0</th>\n",
       "      <th>1</th>\n",
       "      <th>2</th>\n",
       "      <th>3</th>\n",
       "      <th>4</th>\n",
       "    </tr>\n",
       "  </thead>\n",
       "  <tbody>\n",
       "    <tr>\n",
       "      <th>0</th>\n",
       "      <td>Candes 12 L Room/Personal Air Cooler??????(Whi...</td>\n",
       "      <td>3999</td>\n",
       "      <td>5</td>\n",
       "      <td>super!</td>\n",
       "      <td>great cooler excellent air flow and for this p...</td>\n",
       "      <td>positive</td>\n",
       "      <td>0.0</td>\n",
       "      <td>0.0</td>\n",
       "      <td>0.0</td>\n",
       "      <td>0.0</td>\n",
       "      <td>1.0</td>\n",
       "    </tr>\n",
       "    <tr>\n",
       "      <th>1</th>\n",
       "      <td>Candes 12 L Room/Personal Air Cooler??????(Whi...</td>\n",
       "      <td>3999</td>\n",
       "      <td>5</td>\n",
       "      <td>awesome</td>\n",
       "      <td>best budget 2 fit cooler nice cooling</td>\n",
       "      <td>positive</td>\n",
       "      <td>0.0</td>\n",
       "      <td>0.0</td>\n",
       "      <td>0.0</td>\n",
       "      <td>0.0</td>\n",
       "      <td>1.0</td>\n",
       "    </tr>\n",
       "    <tr>\n",
       "      <th>2</th>\n",
       "      <td>Candes 12 L Room/Personal Air Cooler??????(Whi...</td>\n",
       "      <td>3999</td>\n",
       "      <td>3</td>\n",
       "      <td>fair</td>\n",
       "      <td>the quality is good but the power of air is de...</td>\n",
       "      <td>positive</td>\n",
       "      <td>0.0</td>\n",
       "      <td>0.0</td>\n",
       "      <td>1.0</td>\n",
       "      <td>0.0</td>\n",
       "      <td>0.0</td>\n",
       "    </tr>\n",
       "    <tr>\n",
       "      <th>3</th>\n",
       "      <td>Candes 12 L Room/Personal Air Cooler??????(Whi...</td>\n",
       "      <td>3999</td>\n",
       "      <td>1</td>\n",
       "      <td>useless product</td>\n",
       "      <td>very bad product its a only a fan</td>\n",
       "      <td>negative</td>\n",
       "      <td>1.0</td>\n",
       "      <td>0.0</td>\n",
       "      <td>0.0</td>\n",
       "      <td>0.0</td>\n",
       "      <td>0.0</td>\n",
       "    </tr>\n",
       "    <tr>\n",
       "      <th>4</th>\n",
       "      <td>Candes 12 L Room/Personal Air Cooler??????(Whi...</td>\n",
       "      <td>3999</td>\n",
       "      <td>3</td>\n",
       "      <td>fair</td>\n",
       "      <td>ok ok product</td>\n",
       "      <td>neutral</td>\n",
       "      <td>0.0</td>\n",
       "      <td>0.0</td>\n",
       "      <td>1.0</td>\n",
       "      <td>0.0</td>\n",
       "      <td>0.0</td>\n",
       "    </tr>\n",
       "  </tbody>\n",
       "</table>\n",
       "</div>"
      ],
      "text/plain": [
       "                                        product_name product_price  Rate  \\\n",
       "0  Candes 12 L Room/Personal Air Cooler??????(Whi...          3999     5   \n",
       "1  Candes 12 L Room/Personal Air Cooler??????(Whi...          3999     5   \n",
       "2  Candes 12 L Room/Personal Air Cooler??????(Whi...          3999     3   \n",
       "3  Candes 12 L Room/Personal Air Cooler??????(Whi...          3999     1   \n",
       "4  Candes 12 L Room/Personal Air Cooler??????(Whi...          3999     3   \n",
       "\n",
       "            Review                                            Summary  \\\n",
       "0           super!  great cooler excellent air flow and for this p...   \n",
       "1          awesome              best budget 2 fit cooler nice cooling   \n",
       "2             fair  the quality is good but the power of air is de...   \n",
       "3  useless product                  very bad product its a only a fan   \n",
       "4             fair                                      ok ok product   \n",
       "\n",
       "  Sentiment    0    1    2    3    4  \n",
       "0  positive  0.0  0.0  0.0  0.0  1.0  \n",
       "1  positive  0.0  0.0  0.0  0.0  1.0  \n",
       "2  positive  0.0  0.0  1.0  0.0  0.0  \n",
       "3  negative  1.0  0.0  0.0  0.0  0.0  \n",
       "4   neutral  0.0  0.0  1.0  0.0  0.0  "
      ]
     },
     "execution_count": 96,
     "metadata": {},
     "output_type": "execute_result"
    }
   ],
   "source": [
    "data = data.join(dataset_onehot)\n",
    "\n",
    "data.head()"
   ]
  }
 ],
 "metadata": {
  "kernelspec": {
   "display_name": "Python 3",
   "language": "python",
   "name": "python3"
  },
  "language_info": {
   "codemirror_mode": {
    "name": "ipython",
    "version": 3
   },
   "file_extension": ".py",
   "mimetype": "text/x-python",
   "name": "python",
   "nbconvert_exporter": "python",
   "pygments_lexer": "ipython3",
   "version": "3.10.7"
  },
  "orig_nbformat": 4,
  "vscode": {
   "interpreter": {
    "hash": "06154da5756d819463ce30b7df325321c37973c36e5babd45707b2d573f4f18d"
   }
  }
 },
 "nbformat": 4,
 "nbformat_minor": 2
}
