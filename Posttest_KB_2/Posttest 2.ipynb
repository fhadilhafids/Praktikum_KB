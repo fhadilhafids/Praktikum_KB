{
 "cells": [
  {
   "cell_type": "code",
   "execution_count": 1,
   "metadata": {},
   "outputs": [],
   "source": [
    "import pandas as pd\n",
    "import numpy as np"
   ]
  },
  {
   "cell_type": "code",
   "execution_count": 2,
   "metadata": {},
   "outputs": [],
   "source": [
    "data=pd.read_csv(\"Dataset-SA.csv\")"
   ]
  },
  {
   "cell_type": "code",
   "execution_count": 4,
   "metadata": {},
   "outputs": [],
   "source": [
    "# MAAF BANG, KARENA TIPE DATANYA BERBEDA DENGAN YANG DI KAGGLE JADI SAYA UBAH BIAR CODENYA BERHASIL\n",
    "data = data[data[\"product_price\"].str.isnumeric()]\n",
    "data[\"product_price\"] = data[\"product_price\"].astype(\"int64\")\n"
   ]
  },
  {
   "cell_type": "code",
   "execution_count": 5,
   "metadata": {},
   "outputs": [],
   "source": [
    "# MAAF BANG, KARENA TIPE DATANYA BERBEDA DENGAN YANG DI KAGGLE JADI SAYA UBAH BIAR CODENYA BERHASIL\n",
    "data = data[data[\"Rate\"].str.isnumeric()]\n",
    "data[\"Rate\"] = data[\"Rate\"].astype(\"int64\")"
   ]
  },
  {
   "cell_type": "code",
   "execution_count": 6,
   "metadata": {},
   "outputs": [
    {
     "name": "stdout",
     "output_type": "stream",
     "text": [
      "Rata-rata: 4135.165711610395\n",
      "Standar Deviasi: 9881.936685739722\n",
      "Nilai Minimum: 59\n",
      "Nilai Maksimum: 86990\n",
      "Kuartil Pertama (Q1): 319.0\n",
      "Kuartil Kedua (Q2 atau Median): 675.0\n",
      "Kuartil Ketiga (Q3): 2999.0\n"
     ]
    }
   ],
   "source": [
    "#-Ketentuan Analisis Data\n",
    "#1. Tampilkan rata-rata, standar deviasi, nilai minimum, nilai maksimum, Q1, Q2, dan Q3 dari attribute bertipe angka.\n",
    "#-------------------------------------------------------------------------------------------------------------------#\n",
    "atribut_angka = data['product_price']\n",
    "# Hitung statistik dasar\n",
    "rata_rata = atribut_angka.mean()         # Rata-rata\n",
    "std_deviasi = atribut_angka.std()        # Standar Deviasi\n",
    "nilai_min = atribut_angka.min()          # Nilai Minimum\n",
    "nilai_max = atribut_angka.max()          # Nilai Maksimum\n",
    "kuartil_pertama = atribut_angka.quantile(0.25)  # Kuartil Pertama (Q1)\n",
    "kuartil_kedua = atribut_angka.median()   # Kuartil Kedua (Q2 atau Median)\n",
    "kuartil_ketiga = atribut_angka.quantile(0.75)  # Kuartil Ketiga (Q3)\n",
    "\n",
    "# Tampilkan hasilnya\n",
    "print(\"Rata-rata:\", rata_rata)\n",
    "print(\"Standar Deviasi:\", std_deviasi)\n",
    "print(\"Nilai Minimum:\", nilai_min)\n",
    "print(\"Nilai Maksimum:\", nilai_max)\n",
    "print(\"Kuartil Pertama (Q1):\", kuartil_pertama)\n",
    "print(\"Kuartil Kedua (Q2 atau Median):\", kuartil_kedua)\n",
    "print(\"Kuartil Ketiga (Q3):\", kuartil_ketiga)"
   ]
  },
  {
   "cell_type": "code",
   "execution_count": 7,
   "metadata": {},
   "outputs": [
    {
     "data": {
      "text/plain": [
       "0    3999\n",
       "1    3999\n",
       "2    3999\n",
       "3    3999\n",
       "4    3999\n",
       "5    3999\n",
       "6    3999\n",
       "7    3999\n",
       "8    3999\n",
       "9    3999\n",
       "Name: product_price, dtype: int64"
      ]
     },
     "execution_count": 7,
     "metadata": {},
     "output_type": "execute_result"
    }
   ],
   "source": [
    "#-Ketentuan Analisis Data\n",
    "#2. Tampilkan 10 record pertama dari dataset dengan attribute bertipe angka.\n",
    "#-------------------------------------------------------------------------------------------------------------------#\n",
    "data['product_price'].head(10)"
   ]
  },
  {
   "cell_type": "code",
   "execution_count": 9,
   "metadata": {},
   "outputs": [
    {
     "name": "stdout",
     "output_type": "stream",
     "text": [
      "TAMPILAN DATA\n",
      "Jumlah Record : 205049 \n",
      " \n",
      "\n",
      "Nama Attribute : ['product_name', 'product_price', 'Rate', 'Review', 'Summary', 'Sentiment'] \n",
      " \n",
      "\n",
      "Jumlah Attribute (Tipe Objek) : ['product_name', 'Review', 'Summary', 'Sentiment'] \n",
      " \n",
      "\n",
      "Jumlah Attribute (Tipe Angka) : ['product_price', 'Rate'] \n",
      " \n",
      "\n",
      "Jumlah Attribute (Tipe Null) : ['Review', 'Summary'] \n",
      " \n",
      "\n"
     ]
    }
   ],
   "source": [
    "#-Ketentuan Analisis Data\n",
    "#3. Tampilkan informasi jumlah record, jumlah attribute, nama attribute, jumlah attribute dengan tipe angka.\n",
    "#   Masukkan informasi tersebut dalam dictionary dengan key sesuai nama informasinya. Tampilkan isi dari dictionary tersebut sebagus mungkin.\n",
    "#-------------------------------------------------------------------------------------------------------------------#\n",
    "info = {\n",
    "    'jumlah_record': 0,         # Jumlah baris (record) dalam DataFrame.\n",
    "    'nama_attribute': [],       # Nama-nama kolom dalam DataFrame.\n",
    "    'objek_attribute': 0,       # Jumlah kolom dengan tipe data 'object' (non-numerik).\n",
    "    'angka_attribute': 0,       # Jumlah kolom dengan tipe data 'int64' (numerik).\n",
    "    'null_attribute': 0         # Jumlah kolom yang memiliki nilai null.\n",
    "}\n",
    "\n",
    "# Menghitung dan menyimpan jumlah baris dalam DataFrame 'data'.\n",
    "info['jumlah_record'] = data.shape[0]\n",
    "\n",
    "# Mengambil dan menyimpan nama-nama kolom dalam DataFrame 'data'.\n",
    "info['nama_attribute'] = list(data.columns.values)\n",
    "\n",
    "# Mengidentifikasi dan menyimpan nama-nama kolom dengan nilai null (kosong).\n",
    "info['null_attribute'] = list(data.loc[:, data.isnull().any()].columns)\n",
    "\n",
    "# Mengidentifikasi dan menyimpan nama-nama kolom dengan tipe data 'object' (non-numerik).\n",
    "info['objek_attribute'] = list(data.select_dtypes(['object']).columns)\n",
    "\n",
    "# Mengidentifikasi dan menyimpan nama-nama kolom dengan tipe data 'int64' (numerik).\n",
    "info['angka_attribute'] = list(data.select_dtypes(['int64']).columns)\n",
    "\n",
    "# Mencetak informasi yang telah dikumpulkan dengan label yang sesuai.\n",
    "print (\"TAMPILAN DATA\")\n",
    "print (\"Jumlah Record :\", info['jumlah_record'], \"\\n\", \"\\n\")\n",
    "print (\"Nama Attribute :\", info['nama_attribute'], \"\\n\", \"\\n\")\n",
    "print (\"Jumlah Attribute (Tipe Objek) :\", info['objek_attribute'], \"\\n\", \"\\n\")\n",
    "print (\"Jumlah Attribute (Tipe Angka) :\", info['angka_attribute'], \"\\n\", \"\\n\")     \n",
    "print (\"Jumlah Attribute (Tipe Null) :\", info['null_attribute'], \"\\n\", \"\\n\") "
   ]
  },
  {
   "cell_type": "code",
   "execution_count": 7,
   "metadata": {},
   "outputs": [
    {
     "name": "stdout",
     "output_type": "stream",
     "text": [
      "                                             product_name  product_price  \\\n",
      "72      MAHARAJA WHITELINE 65 L Desert Air Cooler?????...           7999   \n",
      "73      MAHARAJA WHITELINE 65 L Desert Air Cooler?????...           7999   \n",
      "74      MAHARAJA WHITELINE 65 L Desert Air Cooler?????...           7999   \n",
      "75      MAHARAJA WHITELINE 65 L Desert Air Cooler?????...           7999   \n",
      "76      MAHARAJA WHITELINE 65 L Desert Air Cooler?????...           7999   \n",
      "...                                                   ...            ...   \n",
      "205047  cello Pack of 18 Opalware Cello Dazzle Lush Fi...           1299   \n",
      "205048  cello Pack of 18 Opalware Cello Dazzle Lush Fi...           1299   \n",
      "205049  cello Pack of 18 Opalware Cello Dazzle Lush Fi...           1299   \n",
      "205050  cello Pack of 18 Opalware Cello Dazzle Lush Fi...           1299   \n",
      "205051  cello Pack of 18 Opalware Cello Dazzle Lush Fi...           1299   \n",
      "\n",
      "        Rate                                             Review  \\\n",
      "72         4                                    worth the money   \n",
      "73         1                                    useless product   \n",
      "74         5                                          excellent   \n",
      "75         1  like an assembled, one can get for 4.5k cheap ...   \n",
      "76         5                                     simply awesome   \n",
      "...      ...                                                ...   \n",
      "205047     5                                          must buy!   \n",
      "205048     5                                             super!   \n",
      "205049     3                                               nice   \n",
      "205050     5                                          just wow!   \n",
      "205051     4                                    value-for-money   \n",
      "\n",
      "                                                  Summary Sentiment  \n",
      "72      better than the steel cooler less noise and va...  positive  \n",
      "73      dont buy maharaja whiteline coolers they have ...  positive  \n",
      "74            very nice product and delivery is satisfied  positive  \n",
      "75      no quality product1 the wood wool has started ...  negative  \n",
      "76      air throw is very good it makes room very cool...  positive  \n",
      "...                                                   ...       ...  \n",
      "205047                                       good product  positive  \n",
      "205048                                               nice  positive  \n",
      "205049                        very nice and fast delivery  positive  \n",
      "205050                                    awesome product  positive  \n",
      "205051  very good but mixing bowl not included is one ...   neutral  \n",
      "\n",
      "[204977 rows x 6 columns]\n",
      "                                                  Summary Sentiment\n",
      "0       great cooler excellent air flow and for this p...  positive\n",
      "1                   best budget 2 fit cooler nice cooling  positive\n",
      "2       the quality is good but the power of air is de...  positive\n",
      "3                       very bad product its a only a fan  negative\n",
      "4                                           ok ok product   neutral\n",
      "...                                                   ...       ...\n",
      "205047                                       good product  positive\n",
      "205048                                               nice  positive\n",
      "205049                        very nice and fast delivery  positive\n",
      "205050                                    awesome product  positive\n",
      "205051  very good but mixing bowl not included is one ...   neutral\n",
      "\n",
      "[205049 rows x 2 columns]\n"
     ]
    }
   ],
   "source": [
    "#-Ketentuan Analisis Data\n",
    "#4. Tampilkan nilai dataset pada baris dimulai dengan 3 digit NIM akhir hingga data terakhir dan kolom ke 4 hingga kolom terakhir\n",
    "#   menggunakan ke 2 metode slice.\n",
    "#-------------------------------------------------------------------------------------------------------------------#\n",
    "# NIM = 072\n",
    "baris = data.iloc[72:]  \n",
    "\n",
    "kolom = data.iloc[:, 4:]  \n",
    "\n",
    "# Tampilkan hasilnya\n",
    "print(baris)\n",
    "print(kolom)\n"
   ]
  },
  {
   "cell_type": "code",
   "execution_count": 11,
   "metadata": {},
   "outputs": [
    {
     "name": "stdout",
     "output_type": "stream",
     "text": [
      "                                             product_name  product_price  \\\n",
      "72      MAHARAJA WHITELINE 65 L Desert Air Cooler?????...           7999   \n",
      "73      MAHARAJA WHITELINE 65 L Desert Air Cooler?????...           7999   \n",
      "74      MAHARAJA WHITELINE 65 L Desert Air Cooler?????...           7999   \n",
      "75      MAHARAJA WHITELINE 65 L Desert Air Cooler?????...           7999   \n",
      "76      MAHARAJA WHITELINE 65 L Desert Air Cooler?????...           7999   \n",
      "...                                                   ...            ...   \n",
      "205047  cello Pack of 18 Opalware Cello Dazzle Lush Fi...           1299   \n",
      "205048  cello Pack of 18 Opalware Cello Dazzle Lush Fi...           1299   \n",
      "205049  cello Pack of 18 Opalware Cello Dazzle Lush Fi...           1299   \n",
      "205050  cello Pack of 18 Opalware Cello Dazzle Lush Fi...           1299   \n",
      "205051  cello Pack of 18 Opalware Cello Dazzle Lush Fi...           1299   \n",
      "\n",
      "        Rate                                             Review  \\\n",
      "72         4                                    worth the money   \n",
      "73         1                                    useless product   \n",
      "74         5                                          excellent   \n",
      "75         1  like an assembled, one can get for 4.5k cheap ...   \n",
      "76         5                                     simply awesome   \n",
      "...      ...                                                ...   \n",
      "205047     5                                          must buy!   \n",
      "205048     5                                             super!   \n",
      "205049     3                                               nice   \n",
      "205050     5                                          just wow!   \n",
      "205051     4                                    value-for-money   \n",
      "\n",
      "                                                  Summary Sentiment  \n",
      "72      better than the steel cooler less noise and va...  positive  \n",
      "73      dont buy maharaja whiteline coolers they have ...  positive  \n",
      "74            very nice product and delivery is satisfied  positive  \n",
      "75      no quality product1 the wood wool has started ...  negative  \n",
      "76      air throw is very good it makes room very cool...  positive  \n",
      "...                                                   ...       ...  \n",
      "205047                                       good product  positive  \n",
      "205048                                               nice  positive  \n",
      "205049                        very nice and fast delivery  positive  \n",
      "205050                                    awesome product  positive  \n",
      "205051  very good but mixing bowl not included is one ...   neutral  \n",
      "\n",
      "[204977 rows x 6 columns]\n",
      "                                                  Summary Sentiment\n",
      "0       great cooler excellent air flow and for this p...  positive\n",
      "1                   best budget 2 fit cooler nice cooling  positive\n",
      "2       the quality is good but the power of air is de...  positive\n",
      "3                       very bad product its a only a fan  negative\n",
      "4                                           ok ok product   neutral\n",
      "...                                                   ...       ...\n",
      "205047                                       good product  positive\n",
      "205048                                               nice  positive\n",
      "205049                        very nice and fast delivery  positive\n",
      "205050                                    awesome product  positive\n",
      "205051  very good but mixing bowl not included is one ...   neutral\n",
      "\n",
      "[205049 rows x 2 columns]\n"
     ]
    }
   ],
   "source": [
    "#-Ketentuan Analisis Data\n",
    "#4. Tampilkan nilai dataset pada baris dimulai dengan 3 digit NIM akhir hingga data terakhir dan kolom ke 4 hingga kolom terakhir\n",
    "#   menggunakan ke 2 metode slice.\n",
    "#-------------------------------------------------------------------------------------------------------------------#\n",
    "# NIM = 072\n",
    "baris = data.loc[72:]\n",
    "\n",
    "kolom = data.iloc[:, 4:]  \n",
    "\n",
    "# Tampilkan hasilnya\n",
    "print(baris)\n",
    "print(kolom)"
   ]
  },
  {
   "cell_type": "code",
   "execution_count": 12,
   "metadata": {},
   "outputs": [
    {
     "name": "stdout",
     "output_type": "stream",
     "text": [
      "product_name      958\n",
      "Review           1321\n",
      "Summary         92920\n",
      "Sentiment           3\n",
      "dtype: int64\n"
     ]
    }
   ],
   "source": [
    "#-Ketentuan Analisis Data\n",
    "#5. Tampilkan jumlah label dari semua attribute yang bernilai object (contoh : Jenis Kelamin, Agama).\n",
    "#-------------------------------------------------------------------------------------------------------------------#\n",
    "kolom_objek = data.select_dtypes(include=['object'])\n",
    "\n",
    "jumlah_label = kolom_objek.nunique()\n",
    "\n",
    "# Tampilkan hasilnya\n",
    "print(jumlah_label)"
   ]
  }
 ],
 "metadata": {
  "kernelspec": {
   "display_name": "Python 3",
   "language": "python",
   "name": "python3"
  },
  "language_info": {
   "codemirror_mode": {
    "name": "ipython",
    "version": 3
   },
   "file_extension": ".py",
   "mimetype": "text/x-python",
   "name": "python",
   "nbconvert_exporter": "python",
   "pygments_lexer": "ipython3",
   "version": "3.10.7"
  },
  "orig_nbformat": 4,
  "vscode": {
   "interpreter": {
    "hash": "06154da5756d819463ce30b7df325321c37973c36e5babd45707b2d573f4f18d"
   }
  }
 },
 "nbformat": 4,
 "nbformat_minor": 2
}
